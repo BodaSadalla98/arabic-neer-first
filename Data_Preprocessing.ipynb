{
  "nbformat": 4,
  "nbformat_minor": 0,
  "metadata": {
    "colab": {
      "name": "Data_Preprocessing.ipynb",
      "provenance": [],
      "collapsed_sections": [],
      "include_colab_link": true
    },
    "kernelspec": {
      "name": "python3",
      "display_name": "Python 3"
    }
  },
  "cells": [
    {
      "cell_type": "markdown",
      "metadata": {
        "id": "view-in-github",
        "colab_type": "text"
      },
      "source": [
        "<a href=\"https://colab.research.google.com/github/BodaSadalla98/ANER/blob/master/Data_Preprocessing.ipynb\" target=\"_parent\"><img src=\"https://colab.research.google.com/assets/colab-badge.svg\" alt=\"Open In Colab\"/></a>"
      ]
    },
    {
      "cell_type": "markdown",
      "metadata": {
        "id": "t0Wr5jtRRn80"
      },
      "source": [
        "Dataset Preprocessing\n",
        "=====================\n",
        "\n",
        "\n",
        "\n",
        "\n",
        "\n",
        "This dataset is coming from wikepedia articles.\n",
        "\n",
        "Dataset has 50 Difeerent classes, summarized down below \n",
        "\n",
        "Source: https://fsalotaibi.kau.edu.sa/Pages-Arabic-NE-Corpora.aspx\n",
        "\n"
      ]
    },
    {
      "cell_type": "code",
      "metadata": {
        "colab": {
          "base_uri": "https://localhost:8080/"
        },
        "id": "tbUl9VhF83Dh",
        "outputId": "3db59b63-7565-499b-ddd8-72091d7e2352"
      },
      "source": [
        "\n",
        "# Here we download the dataset\n",
        "\n",
        "! gdown --id 1uq33al1VNubM7eA5CEMlQstpBohRNPky\n",
        "!gdown --id 1w_AwpWAdi_IPWYlV0VzFE6WL7doWopiL"
      ],
      "execution_count": 13,
      "outputs": [
        {
          "output_type": "stream",
          "text": [
            "Downloading...\n",
            "From: https://drive.google.com/uc?id=1uq33al1VNubM7eA5CEMlQstpBohRNPky\n",
            "To: /content/WikiFANE_Gold_2014_500K.csv\n",
            "7.18MB [00:00, 43.5MB/s]\n",
            "Downloading...\n",
            "From: https://drive.google.com/uc?id=1w_AwpWAdi_IPWYlV0VzFE6WL7doWopiL\n",
            "To: /content/WikiFANE_Gold_2014_500K.txt\n",
            "7.69MB [00:00, 44.7MB/s]\n"
          ],
          "name": "stdout"
        }
      ]
    },
    {
      "cell_type": "code",
      "metadata": {
        "id": "sBw39VlR9UWS"
      },
      "source": [
        "import pandas as pd \n",
        "from tqdm import tqdm\n",
        "import csv"
      ],
      "execution_count": 14,
      "outputs": []
    },
    {
      "cell_type": "markdown",
      "metadata": {
        "id": "I49kLaXie4zi"
      },
      "source": [
        "Here we clean the dataset, by removing newlines and some unicode characters,\n",
        "\n",
        "And finally we insert newline token between sentences "
      ]
    },
    {
      "cell_type": "code",
      "metadata": {
        "id": "RUJ6Lzl_9ZW6"
      },
      "source": [
        "\n",
        "\n",
        "\n",
        "lines =[]\n",
        "with open('WikiFANE_Gold_2014_500K.txt','r', encoding='utf-8')as f:\n",
        "  with open('dataset_1.0.txt','w',encoding='utf-8') as out:\n",
        "    for line in f:\n",
        "\n",
        "      line = line.replace(u'\\u200e','')\n",
        "      line = line.replace(u'\\ufeff','')\n",
        "      line = line.strip('\\n')\n",
        "\n",
        "      parts = line.split('\\t')\n",
        "\n",
        "      # if this an empty line, add newline token\n",
        "      if len(parts[0]) == 0:\n",
        "        parts[0] = '[NEWLINE]'\n",
        "\n",
        "      lines.append(parts)\n",
        "      out.write(f'{parts[0]} {parts[1]}\\n')\n",
        "\n",
        "    \n",
        "\n",
        "\n"
      ],
      "execution_count": 15,
      "outputs": []
    },
    {
      "cell_type": "markdown",
      "metadata": {
        "id": "z7-XyNKCgflJ"
      },
      "source": [
        "Here we save the dataset as a csv file, and then read it to do some analysis on it "
      ]
    },
    {
      "cell_type": "code",
      "metadata": {
        "id": "Rpa6S3b5T0Lm"
      },
      "source": [
        "\n",
        "df = pd.DataFrame(lines)\n",
        "\n",
        "df.to_csv('dataset_1.0.csv',index=False, header=None, encoding='utf-8',mode = 'w')\n",
        "\n",
        "csv_data = pd.read_csv('dataset_1.0.csv',encoding='utf-8', header=None,quoting=csv.QUOTE_NONE, error_bad_lines=False)\n",
        "\n"
      ],
      "execution_count": 16,
      "outputs": []
    },
    {
      "cell_type": "markdown",
      "metadata": {
        "id": "b7JfybbhhDN7"
      },
      "source": [
        "We can see here that we have over 500k tokens"
      ]
    },
    {
      "cell_type": "code",
      "metadata": {
        "colab": {
          "base_uri": "https://localhost:8080/"
        },
        "id": "SN93rIPuMHZo",
        "outputId": "c8c4a267-6d83-4c3c-9d4e-6aa2bf17cbf4"
      },
      "source": [
        "\n",
        "\n",
        "print(csv_data.shape)\n",
        "print(csv_data.head(10))\n",
        "\n"
      ],
      "execution_count": 17,
      "outputs": [
        {
          "output_type": "stream",
          "text": [
            "(505323, 2)\n",
            "         0            1\n",
            "0  جمهورية     B-Nation\n",
            "1     جنوب     I-Nation\n",
            "2  السودان     I-Nation\n",
            "3        ،            O\n",
            "4       هي            O\n",
            "5     دولة            O\n",
            "6      تقع            O\n",
            "7       في            O\n",
            "8      شرق            O\n",
            "9  افريقيا  B-Continent\n"
          ],
          "name": "stdout"
        }
      ]
    },
    {
      "cell_type": "markdown",
      "metadata": {
        "id": "8MKSo91ChNBQ"
      },
      "source": [
        "This is a list with all the classes we have "
      ]
    },
    {
      "cell_type": "code",
      "metadata": {
        "id": "RueEa71Z998O",
        "colab": {
          "base_uri": "https://localhost:8080/"
        },
        "outputId": "9b5ba6fb-80d4-4607-93de-6e6e312d6ae9"
      },
      "source": [
        "classes = csv_data.apply(set)\n",
        "classes[1]"
      ],
      "execution_count": 18,
      "outputs": [
        {
          "output_type": "execute_result",
          "data": {
            "text/plain": [
              "{'B-Air',\n",
              " 'B-Airport',\n",
              " 'B-Artist',\n",
              " 'B-Athlete',\n",
              " 'B-Blunt',\n",
              " 'B-Book',\n",
              " 'B-Building-Grounds',\n",
              " 'B-Businessperson',\n",
              " 'B-Celestial',\n",
              " 'B-Chemical',\n",
              " 'B-Commercial',\n",
              " 'B-Continent',\n",
              " 'B-County-or-District',\n",
              " 'B-Drug',\n",
              " 'B-Educational',\n",
              " 'B-Engineer',\n",
              " 'B-Entertainment',\n",
              " 'B-Exploding',\n",
              " 'B-Food',\n",
              " 'B-GPE-Cluster',\n",
              " 'B-Government',\n",
              " 'B-Group',\n",
              " 'B-Hardware',\n",
              " 'B-Land',\n",
              " 'B-Land-Region-Natural',\n",
              " 'B-Lawyer',\n",
              " 'B-Media',\n",
              " 'B-Medical-Science',\n",
              " 'B-Movie',\n",
              " 'B-Nation',\n",
              " 'B-Non-Governmental',\n",
              " 'B-Nuclear',\n",
              " 'B-Other_PER',\n",
              " 'B-Path',\n",
              " 'B-Plant',\n",
              " 'B-Police',\n",
              " 'B-Politician',\n",
              " 'B-Population-Center',\n",
              " 'B-Projectile',\n",
              " 'B-Religious_ORG',\n",
              " 'B-Religious_PER',\n",
              " 'B-Scientist',\n",
              " 'B-Sharp',\n",
              " 'B-Shooting',\n",
              " 'B-Software',\n",
              " 'B-Sound',\n",
              " 'B-Sports',\n",
              " 'B-State-or-Province',\n",
              " 'B-Subarea-Facility',\n",
              " 'B-Water',\n",
              " 'B-Water-Body',\n",
              " 'I-Air',\n",
              " 'I-Airport',\n",
              " 'I-Artist',\n",
              " 'I-Athlete',\n",
              " 'I-Blunt',\n",
              " 'I-Book',\n",
              " 'I-Building-Grounds',\n",
              " 'I-Businessperson',\n",
              " 'I-Celestial',\n",
              " 'I-Chemical',\n",
              " 'I-Commercial',\n",
              " 'I-Continent',\n",
              " 'I-County-or-District',\n",
              " 'I-Drug',\n",
              " 'I-Educational',\n",
              " 'I-Engineer',\n",
              " 'I-Entertainment',\n",
              " 'I-Exploding',\n",
              " 'I-Food',\n",
              " 'I-GPE-Cluster',\n",
              " 'I-Government',\n",
              " 'I-Group',\n",
              " 'I-Hardware',\n",
              " 'I-Land',\n",
              " 'I-Land-Region-Natural',\n",
              " 'I-Lawyer',\n",
              " 'I-Media',\n",
              " 'I-Medical-Science',\n",
              " 'I-Movie',\n",
              " 'I-Nation',\n",
              " 'I-Non-Governmental',\n",
              " 'I-Nuclear',\n",
              " 'I-Other_PER',\n",
              " 'I-Path',\n",
              " 'I-Plant',\n",
              " 'I-Police',\n",
              " 'I-Politician',\n",
              " 'I-Population-Center',\n",
              " 'I-Projectile',\n",
              " 'I-Religious_ORG',\n",
              " 'I-Religious_PER',\n",
              " 'I-Scientist',\n",
              " 'I-Shooting',\n",
              " 'I-Software',\n",
              " 'I-Sound',\n",
              " 'I-Sports',\n",
              " 'I-State-or-Province',\n",
              " 'I-Subarea-Facility',\n",
              " 'I-Water',\n",
              " 'I-Water-Body',\n",
              " 'O',\n",
              " nan}"
            ]
          },
          "metadata": {
            "tags": []
          },
          "execution_count": 18
        }
      ]
    },
    {
      "cell_type": "markdown",
      "metadata": {
        "id": "hKGmxJqThoVa"
      },
      "source": [
        "Here we get the frequenct of each class seperatley, to get insight about the weight of each class "
      ]
    },
    {
      "cell_type": "code",
      "metadata": {
        "colab": {
          "base_uri": "https://localhost:8080/"
        },
        "id": "fbVxc9DX-_43",
        "outputId": "f2891045-9ed5-4eda-c8bd-e5e76ff0d841"
      },
      "source": [
        "class_freq = dict()\n",
        "\n",
        "\n",
        "for  row in tqdm(csv_data[1]):\n",
        "  cls = str(row)\n",
        "  if cls in class_freq.keys():\n",
        "    class_freq[cls] += 1\n",
        "  else:\n",
        "    class_freq[cls] = 1\n",
        "\n",
        "\n",
        "class_freq = sorted(class_freq.items(), key=lambda x:x[1], reverse=True)\n",
        "\n",
        "\n",
        "for cls, freq in class_freq:\n",
        "  print(f' {cls}: {freq}')\n",
        "  "
      ],
      "execution_count": 19,
      "outputs": [
        {
          "output_type": "stream",
          "text": [
            "100%|██████████| 505323/505323 [00:00<00:00, 986945.95it/s] "
          ],
          "name": "stderr"
        },
        {
          "output_type": "stream",
          "text": [
            " O: 425200\n",
            " nan: 15762\n",
            " B-Population-Center: 5481\n",
            " B-Nation: 5115\n",
            " I-Politician: 3523\n",
            " B-Group: 2923\n",
            " B-Politician: 2788\n",
            " I-Religious_PER: 1765\n",
            " B-Water-Body: 1653\n",
            " B-State-or-Province: 1480\n",
            " I-Artist: 1335\n",
            " I-Water-Body: 1239\n",
            " I-Population-Center: 1182\n",
            " B-Other_PER: 1178\n",
            " I-Scientist: 1177\n",
            " I-Non-Governmental: 1174\n",
            " B-Artist: 1166\n",
            " I-Building-Grounds: 1147\n",
            " I-Commercial: 1110\n",
            " I-Government: 1018\n",
            " I-Nation: 1016\n",
            " B-Commercial: 1016\n",
            " I-Other_PER: 1011\n",
            " B-Scientist: 967\n",
            " B-Building-Grounds: 887\n",
            " B-Religious_PER: 852\n",
            " I-Air: 815\n",
            " B-Non-Governmental: 808\n",
            " B-Celestial: 806\n",
            " I-Book: 786\n",
            " I-Educational: 733\n",
            " B-Government: 726\n",
            " B-Police: 704\n",
            " I-Athlete: 657\n",
            " I-Software: 644\n",
            " I-Media: 637\n",
            " B-Athlete: 635\n",
            " B-Air: 628\n",
            " I-Group: 611\n",
            " I-Sports: 608\n",
            " B-Continent: 597\n",
            " I-Police: 593\n",
            " I-State-or-Province: 542\n",
            " B-Sports: 521\n",
            " I-Hardware: 520\n",
            " B-Media: 519\n",
            " B-Educational: 511\n",
            " B-Land-Region-Natural: 505\n",
            " B-Software: 503\n",
            " B-Businessperson: 451\n",
            " I-Land-Region-Natural: 441\n",
            " I-Path: 418\n",
            " I-Businessperson: 404\n",
            " B-Book: 388\n",
            " B-Path: 329\n",
            " B-Hardware: 328\n",
            " I-Water: 316\n",
            " B-GPE-Cluster: 314\n",
            " I-GPE-Cluster: 314\n",
            " I-Movie: 263\n",
            " I-Celestial: 231\n",
            " B-County-or-District: 227\n",
            " B-Movie: 221\n",
            " I-Sound: 201\n",
            " B-Water: 179\n",
            " I-County-or-District: 138\n",
            " I-Airport: 136\n",
            " B-Sound: 130\n",
            " I-Engineer: 128\n",
            " B-Engineer: 125\n",
            " I-Projectile: 125\n",
            " I-Religious_ORG: 120\n",
            " I-Medical-Science: 116\n",
            " B-Food: 100\n",
            " B-Projectile: 93\n",
            " B-Drug: 93\n",
            " I-Subarea-Facility: 90\n",
            " I-Entertainment: 88\n",
            " B-Airport: 80\n",
            " I-Continent: 76\n",
            " B-Religious_ORG: 73\n",
            " B-Land: 73\n",
            " B-Subarea-Facility: 69\n",
            " B-Entertainment: 68\n",
            " B-Medical-Science: 66\n",
            " I-Plant: 60\n",
            " B-Lawyer: 58\n",
            " I-Lawyer: 52\n",
            " I-Food: 50\n",
            " I-Land: 48\n",
            " I-Nuclear: 42\n",
            " B-Blunt: 37\n",
            " B-Plant: 34\n",
            " B-Shooting: 32\n",
            " I-Shooting: 29\n",
            " B-Nuclear: 29\n",
            " I-Exploding: 23\n",
            " I-Drug: 12\n",
            " I-Blunt: 11\n",
            " B-Exploding: 8\n",
            " B-Sharp: 5\n",
            " B-Chemical: 5\n",
            " I-Chemical: 2\n"
          ],
          "name": "stdout"
        },
        {
          "output_type": "stream",
          "text": [
            "\n"
          ],
          "name": "stderr"
        }
      ]
    },
    {
      "cell_type": "markdown",
      "metadata": {
        "id": "q23aY4ryiG43"
      },
      "source": [
        "Here we just make sure that the sum of all class tokens equals the total number of tokens in the dataset"
      ]
    },
    {
      "cell_type": "code",
      "metadata": {
        "colab": {
          "base_uri": "https://localhost:8080/"
        },
        "id": "OttbPmvA-M5A",
        "outputId": "08294940-5644-40e8-a31f-f37baa172fac"
      },
      "source": [
        "df = pd.DataFrame(class_freq)\n",
        "\n",
        "\n",
        "print(df.sum(axis=1).sum())\n",
        "print(len(csv_data))"
      ],
      "execution_count": 20,
      "outputs": [
        {
          "output_type": "stream",
          "text": [
            "505323\n",
            "505323\n"
          ],
          "name": "stdout"
        }
      ]
    },
    {
      "cell_type": "markdown",
      "metadata": {
        "id": "zFxncM4iiaMv"
      },
      "source": [
        "Here we just save the classes frequencies "
      ]
    },
    {
      "cell_type": "code",
      "metadata": {
        "colab": {
          "base_uri": "https://localhost:8080/"
        },
        "id": "B_-SCiLd-ODM",
        "outputId": "8f8ecf0c-4edd-44d0-b4e4-2de115c1c1ba"
      },
      "source": [
        "with open('classes.txt','w') as f:\n",
        "  for i in tqdm(class_freq):\n",
        "    f.write(f'{i[0]}: {i[1]} \\n')\n"
      ],
      "execution_count": 21,
      "outputs": [
        {
          "output_type": "stream",
          "text": [
            "100%|██████████| 103/103 [00:00<00:00, 179556.66it/s]\n"
          ],
          "name": "stderr"
        }
      ]
    },
    {
      "cell_type": "markdown",
      "metadata": {
        "id": "k4m_bUiHTZXP"
      },
      "source": [
        "Classes Summary\n",
        "-------------\n",
        "\n",
        "We have 50 difeerent classes with 5 different categories "
      ]
    },
    {
      "cell_type": "markdown",
      "metadata": {
        "id": "Mix60aiLUpoy"
      },
      "source": [
        "\n",
        "\n",
        "\n",
        "Weapone\n",
        "--------\n",
        "\n",
        "- Blunt\n",
        "- Exploding\n",
        "- Nuclear\n",
        "- Projectile\n",
        "- Sharp\n",
        "- Shooting\n",
        "\n",
        "Miscellaneous\n",
        "--------------\n",
        "- Chemical (only 7 tokens)\n",
        "- Drug (100 tokens )\n",
        "- Food (around 150 token)\n",
        "- Hardware\n",
        "- Movie\n",
        "- Software\n",
        "- Sound\n",
        "- Celestial\n",
        "- Book\n",
        "- Air (airplanes)\n",
        "\n",
        "\n",
        "PERSON\n",
        "--------------\n",
        "- Artist\n",
        "- Politician \n",
        "- Businessperson\n",
        "- Engineer\n",
        "- Group\n",
        "- Athlete\n",
        "- Lawyer\n",
        "- Other_PER\n",
        "- Police\n",
        "- Scientist\n",
        "- Religious_PER\n",
        "\n",
        "\n",
        "LOCATION\n",
        "--------------\n",
        "- Continent\n",
        "- County-or-District\n",
        "- GPE-Cluster\n",
        "- Land\n",
        "- Land-Region-Natural\n",
        "- Nation\n",
        "- Path\n",
        "- Population-Center\n",
        "- State-or-Province\n",
        "- Subarea-Facility\n",
        "- Water\n",
        "- Water-Body\n",
        "- Building-Grounds\n",
        "- Airport\n",
        "\n",
        "\n",
        "ORGANIZATION\n",
        "--------------\n",
        "- Commercial (company names)\n",
        "- Educational (shcools, colleges, etc)\n",
        "- Entertainment\n",
        "- Government\n",
        "- Non-Governmental\n",
        "- Media\n",
        "- Medical-Science\n",
        "- Plant\n",
        "- Religious_ORG\n",
        "- Sports\n",
        "\n",
        "\n",
        "\n",
        "\n"
      ]
    },
    {
      "cell_type": "markdown",
      "metadata": {
        "id": "0UvLjW7-igdA"
      },
      "source": [
        "Finally we save the dataset to drive"
      ]
    },
    {
      "cell_type": "code",
      "metadata": {
        "id": "7qCQ1fuTHkCh",
        "colab": {
          "base_uri": "https://localhost:8080/"
        },
        "outputId": "da9fd22b-c3ae-4c9f-89d5-b7c9f906ae5f"
      },
      "source": [
        "from google.colab import drive\n",
        "drive.mount('/content/drive')\n",
        "\n",
        "!cp dataset_1.0.csv dataset_1.0.txt drive/MyDrive/Datasets/"
      ],
      "execution_count": 22,
      "outputs": [
        {
          "output_type": "stream",
          "text": [
            "Mounted at /content/drive\n"
          ],
          "name": "stdout"
        }
      ]
    }
  ]
}